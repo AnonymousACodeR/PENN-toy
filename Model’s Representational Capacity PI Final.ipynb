{
 "cells": [
  {
   "cell_type": "code",
   "execution_count": 1,
   "id": "66d3b21d",
   "metadata": {},
   "outputs": [],
   "source": [
    "from tqdm import tqdm\n",
    "\n",
    "import torch\n",
    "from torch import nn\n",
    "import numpy as np"
   ]
  },
  {
   "cell_type": "code",
   "execution_count": 2,
   "id": "0df25eb4",
   "metadata": {},
   "outputs": [],
   "source": [
    "x1 = x2 = np.arange(1, 31)"
   ]
  },
  {
   "cell_type": "code",
   "execution_count": 3,
   "id": "bf7fb6e3",
   "metadata": {},
   "outputs": [
    {
     "data": {
      "text/plain": [
       "array([ 1,  2,  3,  4,  5,  6,  7,  8,  9, 10, 11, 12, 13, 14, 15, 16, 17,\n",
       "       18, 19, 20, 21, 22, 23, 24, 25, 26, 27, 28, 29, 30])"
      ]
     },
     "execution_count": 3,
     "metadata": {},
     "output_type": "execute_result"
    }
   ],
   "source": [
    "x1"
   ]
  },
  {
   "cell_type": "code",
   "execution_count": 4,
   "id": "d2f990e9",
   "metadata": {},
   "outputs": [
    {
     "data": {
      "text/plain": [
       "array([ 1,  2,  3,  4,  5,  6,  7,  8,  9, 10, 11, 12, 13, 14, 15, 16, 17,\n",
       "       18, 19, 20, 21, 22, 23, 24, 25, 26, 27, 28, 29, 30])"
      ]
     },
     "execution_count": 4,
     "metadata": {},
     "output_type": "execute_result"
    }
   ],
   "source": [
    "x2"
   ]
  },
  {
   "cell_type": "code",
   "execution_count": 5,
   "id": "3a24c15b",
   "metadata": {},
   "outputs": [],
   "source": [
    "x12 = np.array(np.meshgrid(x1, x2)).T.reshape(-1,2,1)"
   ]
  },
  {
   "cell_type": "code",
   "execution_count": 6,
   "id": "2a1e29bb",
   "metadata": {},
   "outputs": [
    {
     "data": {
      "text/plain": [
       "(900, 2, 1)"
      ]
     },
     "execution_count": 6,
     "metadata": {},
     "output_type": "execute_result"
    }
   ],
   "source": [
    "x12.shape"
   ]
  },
  {
   "cell_type": "code",
   "execution_count": 7,
   "id": "4f8397ce",
   "metadata": {},
   "outputs": [],
   "source": [
    "y = np.prod(x12, axis = -2)"
   ]
  },
  {
   "cell_type": "code",
   "execution_count": 8,
   "id": "b5dbf23f",
   "metadata": {},
   "outputs": [
    {
     "data": {
      "text/plain": [
       "(900, 1)"
      ]
     },
     "execution_count": 8,
     "metadata": {},
     "output_type": "execute_result"
    }
   ],
   "source": [
    "y.shape"
   ]
  },
  {
   "cell_type": "code",
   "execution_count": 9,
   "id": "a62fb9bd",
   "metadata": {},
   "outputs": [],
   "source": [
    "repeat = 3\n",
    "epoch = 25000"
   ]
  },
  {
   "cell_type": "code",
   "execution_count": 10,
   "id": "40c8e270",
   "metadata": {},
   "outputs": [],
   "source": [
    "class PESymetryMean(nn.Module):\n",
    "    def __init__(self, in_dim: int, out_dim: int) -> None:\n",
    "        super(PESymetryMean, self).__init__()\n",
    "        self.diagonal = nn.Linear(in_dim, out_dim)\n",
    "        self.rest = nn.Linear(in_dim, out_dim, bias=False)\n",
    "\n",
    "    def forward(self, x: torch.Tensor) -> torch.Tensor:\n",
    "        # x_mean = x.mean(0, keepdim=True)\n",
    "        x_mean = x.mean(-2, keepdim=True)\n",
    "        x_mean = self.rest(x_mean)\n",
    "        x = self.diagonal(x)\n",
    "        x = x + x_mean\n",
    "        return x"
   ]
  },
  {
   "cell_type": "code",
   "execution_count": 11,
   "id": "36fe7449",
   "metadata": {},
   "outputs": [],
   "source": [
    "class PESymetryMax(nn.Module):\n",
    "    def __init__(self, in_dim: int, out_dim: int) -> None:\n",
    "        super(PESymetryMax, self).__init__()\n",
    "        self.diagonal = nn.Linear(in_dim, out_dim)\n",
    "        self.rest = nn.Linear(in_dim, out_dim, bias=False)\n",
    "\n",
    "    def forward(self, x: torch.Tensor) -> torch.Tensor:\n",
    "        x_max, _ = x.max(0, keepdim=True)\n",
    "        x_max = self.rest(x_max)\n",
    "        x = self.diagonal(x)\n",
    "        x = x + x_max\n",
    "        return x"
   ]
  },
  {
   "cell_type": "code",
   "execution_count": 12,
   "id": "1abcba9e",
   "metadata": {},
   "outputs": [],
   "source": [
    "class PESymetrySum(nn.Module):\n",
    "    def __init__(self, in_dim: int, out_dim: int) -> None:\n",
    "        super(PESymetrySum, self).__init__()\n",
    "        self.diagonal = nn.Linear(in_dim, out_dim)\n",
    "        self.rest = nn.Linear(in_dim, out_dim, bias=False)\n",
    "\n",
    "    def forward(self, x: torch.Tensor) -> torch.Tensor:\n",
    "        x_mean = x.sum(-2, keepdim=True)\n",
    "        x_mean = self.rest(x_mean)\n",
    "        x = self.diagonal(x)\n",
    "        x = x + x_mean\n",
    "        return x"
   ]
  },
  {
   "cell_type": "code",
   "execution_count": 13,
   "id": "6b8b2938",
   "metadata": {},
   "outputs": [],
   "source": [
    "class PINNMeanM(nn.Module):\n",
    "    def __init__(self):\n",
    "        super(PINNMeanM, self).__init__()\n",
    "        input_dim = 1\n",
    "        inter_dim = 32\n",
    "        final_dim = 1\n",
    "        pe_layers = [\n",
    "            PESymetryMean(input_dim, inter_dim),\n",
    "            nn.ELU(),\n",
    "            PESymetryMean(inter_dim, inter_dim),\n",
    "            nn.ELU(),\n",
    "            PESymetryMean(inter_dim, inter_dim),\n",
    "            nn.ELU(),\n",
    "            PESymetryMean(inter_dim, final_dim),\n",
    "            nn.ELU(),\n",
    "        ]\n",
    "\n",
    "        self.pe_net = nn.Sequential(*pe_layers)\n",
    "        \n",
    "        self.MseLoss = nn.MSELoss()\n",
    "        self.optimizer = torch.optim.Adam([\n",
    "            {'params': self.pe_net.parameters(), 'lr': 0.003},\n",
    "        ])\n",
    "    \n",
    "    def forward(self, x):\n",
    "        temp_x = self.pe_net(x)\n",
    "        final_x = temp_x.mean(-2)\n",
    "        return final_x\n",
    "    \n",
    "    def update(self, y, target_y):\n",
    "        loss = self.MseLoss(y, target_y)\n",
    "        \n",
    "        self.optimizer.zero_grad()\n",
    "        loss.mean().backward()\n",
    "        self.optimizer.step()\n",
    "        \n",
    "        return loss.item()"
   ]
  },
  {
   "cell_type": "code",
   "execution_count": 14,
   "id": "8beee851",
   "metadata": {},
   "outputs": [],
   "source": [
    "class PINNMeanS(nn.Module):\n",
    "    def __init__(self):\n",
    "        super(PINNMeanS, self).__init__()\n",
    "        input_dim = 1\n",
    "        inter_dim = 32\n",
    "        final_dim = 1\n",
    "        pe_layers = [\n",
    "            PESymetryMean(input_dim, inter_dim),\n",
    "            nn.ELU(),\n",
    "            PESymetryMean(inter_dim, inter_dim),\n",
    "            nn.ELU(),\n",
    "            PESymetryMean(inter_dim, inter_dim),\n",
    "            nn.ELU(),\n",
    "            PESymetryMean(inter_dim, final_dim),\n",
    "            nn.ELU(),\n",
    "        ]\n",
    "\n",
    "        self.pe_net = nn.Sequential(*pe_layers)\n",
    "        \n",
    "        self.MseLoss = nn.MSELoss()\n",
    "        self.optimizer = torch.optim.Adam([\n",
    "            {'params': self.pe_net.parameters(), 'lr': 0.003},\n",
    "        ])\n",
    "    \n",
    "    def forward(self, x):\n",
    "        temp_x = self.pe_net(x)\n",
    "        final_x = temp_x.sum(-2)\n",
    "        return final_x\n",
    "    \n",
    "    def update(self, y, target_y):\n",
    "        loss = self.MseLoss(y, target_y)\n",
    "        \n",
    "        self.optimizer.zero_grad()\n",
    "        loss.mean().backward()\n",
    "        self.optimizer.step()\n",
    "        \n",
    "        return loss.item()"
   ]
  },
  {
   "cell_type": "code",
   "execution_count": 15,
   "id": "b3d82cff",
   "metadata": {},
   "outputs": [],
   "source": [
    "class DeepSetLin(nn.Module):\n",
    "    def __init__(self):\n",
    "        super(DeepSetLin, self).__init__()\n",
    "        input_dim = 1\n",
    "        inter_dim = 32\n",
    "        final_dim = 1\n",
    "        pe_layers = [\n",
    "            nn.Linear(input_dim, inter_dim),\n",
    "            nn.ELU(),\n",
    "            nn.Linear(inter_dim, inter_dim),\n",
    "            nn.ELU(),\n",
    "            nn.Linear(inter_dim, inter_dim),\n",
    "            nn.ELU(),\n",
    "        ]\n",
    "        pi_layers = [\n",
    "            nn.Linear(inter_dim, final_dim),\n",
    "            nn.ELU(),\n",
    "            \n",
    "        ]\n",
    "        self.pe_net = nn.Sequential(*pe_layers)\n",
    "        self.pi_net = nn.Sequential(*pi_layers)\n",
    "        \n",
    "        self.MseLoss = nn.MSELoss()\n",
    "        self.optimizer = torch.optim.Adam([\n",
    "            {'params': self.pe_net.parameters(), 'lr': 0.003},\n",
    "            {'params': self.pi_net.parameters(), 'lr': 0.003}\n",
    "        ])\n",
    "    \n",
    "    def forward(self, x):\n",
    "        temp_x = self.pe_net(x)\n",
    "        final_x = self.pi_net(temp_x.sum(-2))\n",
    "        return final_x\n",
    "    \n",
    "    def update(self, y, target_y):\n",
    "        loss = self.MseLoss(y, target_y)\n",
    "        \n",
    "        self.optimizer.zero_grad()\n",
    "        loss.mean().backward()\n",
    "        self.optimizer.step()\n",
    "        \n",
    "        return loss.item()"
   ]
  },
  {
   "cell_type": "code",
   "execution_count": 16,
   "id": "8429cb40",
   "metadata": {},
   "outputs": [
    {
     "name": "stderr",
     "output_type": "stream",
     "text": [
      "  0%|                                                 | 0/25000 [00:00<?, ?it/s]/var/folders/9r/svf227552bj3rl_tdhz9zdm00000gp/T/ipykernel_88733/2060461734.py:7: UserWarning: To copy construct from a tensor, it is recommended to use sourceTensor.clone().detach() or sourceTensor.clone().detach().requires_grad_(True), rather than torch.tensor(sourceTensor).\n",
      "  y = torch.tensor(y, dtype=torch.float32)\n",
      "100%|█████████████████████████████████████| 25000/25000 [08:00<00:00, 52.05it/s]\n",
      "100%|█████████████████████████████████████| 25000/25000 [08:10<00:00, 50.93it/s]\n",
      "100%|█████████████████████████████████████| 25000/25000 [08:33<00:00, 48.72it/s]\n"
     ]
    }
   ],
   "source": [
    "result_pinnmeanm = []\n",
    "\n",
    "for _ in (range(repeat)):\n",
    "    pinnmeanm = PINNMeanM()\n",
    "    for e in tqdm(range(epoch)):\n",
    "        y_p = pinnmeanm(torch.tensor(x12, dtype=torch.float32))\n",
    "        y = torch.tensor(y, dtype=torch.float32)\n",
    "        loss = pinnmeanm.update(y_p, y)\n",
    "        result_pinnmeanm.append({\"model\":\"IPENN(Mean)\", \"epoch\":e, \"loss\":loss})"
   ]
  },
  {
   "cell_type": "code",
   "execution_count": 17,
   "id": "3aad4573",
   "metadata": {},
   "outputs": [
    {
     "name": "stderr",
     "output_type": "stream",
     "text": [
      "  0%|                                                 | 0/25000 [00:00<?, ?it/s]/var/folders/9r/svf227552bj3rl_tdhz9zdm00000gp/T/ipykernel_88733/1326666298.py:7: UserWarning: To copy construct from a tensor, it is recommended to use sourceTensor.clone().detach() or sourceTensor.clone().detach().requires_grad_(True), rather than torch.tensor(sourceTensor).\n",
      "  y = torch.tensor(y, dtype=torch.float32)\n",
      "100%|█████████████████████████████████████| 25000/25000 [08:11<00:00, 50.83it/s]\n",
      "100%|█████████████████████████████████████| 25000/25000 [08:45<00:00, 47.54it/s]\n",
      "100%|█████████████████████████████████████| 25000/25000 [07:24<00:00, 56.25it/s]\n"
     ]
    }
   ],
   "source": [
    "result_pinnmeans = []\n",
    "\n",
    "for _ in (range(repeat)):\n",
    "    pinnmeans = PINNMeanS()\n",
    "    for e in tqdm(range(epoch)):\n",
    "        y_p = pinnmeans(torch.tensor(x12, dtype=torch.float32))\n",
    "        y = torch.tensor(y, dtype=torch.float32)\n",
    "        loss = pinnmeans.update(y_p, y)\n",
    "        result_pinnmeans.append({\"model\":\"IPENN(Sum)\", \"epoch\":e, \"loss\":loss})"
   ]
  },
  {
   "cell_type": "code",
   "execution_count": 18,
   "id": "a20b18c2",
   "metadata": {},
   "outputs": [
    {
     "name": "stderr",
     "output_type": "stream",
     "text": [
      "  0%|                                                 | 0/25000 [00:00<?, ?it/s]/var/folders/9r/svf227552bj3rl_tdhz9zdm00000gp/T/ipykernel_88733/2045018654.py:7: UserWarning: To copy construct from a tensor, it is recommended to use sourceTensor.clone().detach() or sourceTensor.clone().detach().requires_grad_(True), rather than torch.tensor(sourceTensor).\n",
      "  y = torch.tensor(y, dtype=torch.float32)\n",
      "100%|████████████████████████████████████| 25000/25000 [02:06<00:00, 198.22it/s]\n",
      "100%|████████████████████████████████████| 25000/25000 [02:08<00:00, 194.69it/s]\n",
      "100%|████████████████████████████████████| 25000/25000 [02:10<00:00, 191.57it/s]\n"
     ]
    }
   ],
   "source": [
    "result_deepsetlin = []\n",
    "\n",
    "for _ in (range(repeat)):\n",
    "    deepsetlin = DeepSetLin()\n",
    "    for e in tqdm(range(epoch)):\n",
    "        y_p = deepsetlin(torch.tensor(x12, dtype=torch.float32))\n",
    "        y = torch.tensor(y, dtype=torch.float32)\n",
    "        loss = deepsetlin.update(y_p, y)\n",
    "        result_deepsetlin.append({\"model\":\"DeepSet\", \"epoch\":e, \"loss\":loss})"
   ]
  },
  {
   "cell_type": "code",
   "execution_count": 19,
   "id": "c62f932b",
   "metadata": {},
   "outputs": [
    {
     "data": {
      "image/png": "[encoded data removed]",
      "text/plain": [
       "<Figure size 432x288 with 1 Axes>"
      ]
     },
     "metadata": {
      "needs_background": "light"
     },
     "output_type": "display_data"
    }
   ],
   "source": [
    "import numpy as np\n",
    "import pandas as pd\n",
    "import seaborn as sns\n",
    "import matplotlib.pyplot as plt\n",
    "\n",
    "results = []\n",
    "results = result_deepsetlin + result_pinnmeans + result_pinnmeanm \n",
    "df = pd.DataFrame(results)\n",
    "df[\"log_loss\"] = np.log(df[\"loss\"])\n",
    "df = df[df[\"epoch\"]%100 == 0]\n",
    "\n",
    "plt.clf()\n",
    "\n",
    "loss_plot = sns.lineplot(data=df, x=\"epoch\", y=\"log_loss\", hue=\"model\", \n",
    "#                          hue_order=[\"IPENN(Sum)\", \"IPENN(Mean)\", \"DeepSet\"], \n",
    "                         palette=\"hls\",)"
   ]
  },
  {
   "cell_type": "code",
   "execution_count": 20,
   "id": "71e0f4e6",
   "metadata": {},
   "outputs": [],
   "source": [
    "loss_plot.figure.savefig(f\"PI_Toy_ECML.png\", bbox_inches=\"tight\", facecolor=(1,1,1,0), dpi=500,)"
   ]
  },
  {
   "cell_type": "code",
   "execution_count": null,
   "id": "70ee6697",
   "metadata": {},
   "outputs": [],
   "source": []
  }
 ],
 "metadata": {
  "kernelspec": {
   "display_name": "Python 3 (ipykernel)",
   "language": "python",
   "name": "python3"
  },
  "language_info": {
   "codemirror_mode": {
    "name": "ipython",
    "version": 3
   },
   "file_extension": ".py",
   "mimetype": "text/x-python",
   "name": "python",
   "nbconvert_exporter": "python",
   "pygments_lexer": "ipython3",
   "version": "3.9.12"
  }
 },
 "nbformat": 4,
 "nbformat_minor": 5
}
